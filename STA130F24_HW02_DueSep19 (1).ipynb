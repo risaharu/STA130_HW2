{
 "cells": [
  {
   "cell_type": "markdown",
   "id": "14b74968",
   "metadata": {},
   "source": [
    "## STA130 Homework 02\n",
    "\n",
    "Please see the course [wiki-textbook](https://github.com/pointOfive/stat130chat130/wiki) for the list of topics covered in this homework assignment, and a list of topics that might appear during ChatBot conversations which are \"out of scope\" for the purposes of this homework assignment (and hence can be safely ignored if encountered)"
   ]
  },
  {
   "cell_type": "markdown",
   "id": "f014006ff8809433",
   "metadata": {},
   "source": [
    "<details class=\"details-example\"><summary style=\"color:blue\"><u>Introduction</u></summary>\n",
    "\n",
    "### Introduction\n",
    "    \n",
    "A reasonable characterization of STA130 Homework is that it simply defines a weekly reading comprehension assignment. \n",
    "Indeed, STA130 Homework essentially boils down to completing various understanding confirmation exercises oriented around coding and writing tasks.\n",
    "However, rather than reading a textbook, STA130 Homework is based on ChatBots so students can interactively follow up to clarify questions or confusion that they may still have regarding learning objective assignments.\n",
    "\n",
    "> Communication is a fundamental skill underlying statistics and data science, so STA130 Homework based on ChatBots helps practice effective two-way communication as part of a \"realistic\" dialogue activity supporting underlying conceptual understanding building. \n",
    "\n",
    "It will likely become increasingly tempting to rely on ChatBots to \"do the work for you\". But when you find yourself frustrated with a ChatBots inability to give you the results you're looking for, this is a \"hint\" that you've become overreliant on the ChatBots. Your objective should not be to have ChatBots \"do the work for you\", but to use ChatBots to help you build your understanding so you can efficiently leverage ChatBots (and other resources) to help you work more efficiently.<br><br>\n",
    "\n",
    "</details>\n",
    "\n",
    "<details class=\"details-example\"><summary style=\"color:blue\"><u>Instructions</u></summary>\n",
    "\n",
    "### Instructions\n",
    "    \n",
    "1. Code and write all your answers (for both the \"Prelecture\" and \"Postlecture\" HW) in a python notebook (in code and markdown cells) \n",
    "    \n",
    "> It is *suggested but not mandatory* that you complete the \"Prelecture\" HW prior to the Monday LEC since (a) all HW is due at the same time; but, (b) completing some of the HW early will mean better readiness for LEC and less of a \"procrastentation cruch\" towards the end of the week...\n",
    "    \n",
    "2. Paste summaries of your ChatBot sessions (including link(s) to chat log histories if you're using ChatGPT) within your notebook\n",
    "    \n",
    "> Create summaries of your ChatBot sessions by using concluding prompts such as \"Please provide a summary of our exchanges here so I can submit them as a record of our interactions as part of a homework assignment\" or, \"Please provide me with the final working verson of the code that we created together\"\n",
    "    \n",
    "3. Save your python jupyter notebook in your own account and \"repo\" on [github.com](github.com) and submit a link to that notebook though Quercus for assignment marking<br><br>\n",
    "\n",
    "</details>\n",
    "\n",
    "<details class=\"details-example\"><summary style=\"color:blue\"><u>Prompt Engineering?</u></summary>\n",
    "    \n",
    "### Prompt Engineering? \n",
    "    \n",
    "The questions (as copy-pasted prompts) are designed to initialize appropriate ChatBot conversations which can be explored in the manner of an interactive and dynamic textbook; but, it is nonetheless **strongly recommendated** that your rephrase the questions in a way that you find natural to ensure a clear understanding of the question. Given sensible prompts the represent a question well, the two primary challenges observed to arise from ChatBots are \n",
    "\n",
    "1. conversations going beyond the intended scope of the material addressed by the question; and, \n",
    "2. unrecoverable confusion as a result of sequential layers logial inquiry that cannot be resolved. \n",
    "\n",
    "In the case of the former (1), adding constraints specifying the limits of considerations of interest tends to be helpful; whereas, the latter (2) is often the result of initial prompting that leads to poor developments in navigating the material, which are likely just best resolve by a \"hard reset\" with a new initial approach to prompting.  Indeed, this is exactly the behavior [hardcoded into copilot](https://answers.microsoft.com/en-us/bing/forum/all/is-this-even-normal/0b6dcab3-7d6c-4373-8efe-d74158af3c00)...\n",
    "\n",
    "</details>"
   ]
  },
  {
   "cell_type": "markdown",
   "id": "161fd459",
   "metadata": {},
   "source": [
    "\n",
    "### Marking Rubric (which may award partial credit) \n",
    "\n",
    "- [0.1 points]: All relevant ChatBot summaries [including link(s) to chat log histories if you're using ChatGPT] are reported within the notebook\n",
    "- [0.3 points]: Assignment completion confirmed by working \"final\" code and ChatBot summaries for \"3\"\n",
    "- [0.3 points]: Written submission evaluation and enagement confirmation with ChatBot summaries for \"6\"\n",
    "- [0.3 points]: Evaluation of engagement and evaluation of written communication in \"7\"\n",
    "        "
   ]
  },
  {
   "cell_type": "markdown",
   "id": "f7ff3f55",
   "metadata": {},
   "source": [
    "### \"Pre-lecture\" HW [*completion prior to next LEC is suggested but not mandatory*]"
   ]
  },
  {
   "cell_type": "markdown",
   "id": "fda8568b",
   "metadata": {},
   "source": [
    "#### 1. Begin (or restart) part \"3(a)\" of the **TUT Demo** and interact with a ChatBot to make sure you understand how each part the Monte Hall problem code above works<br>\n",
    "\n",
    "<details class=\"details-example\"><summary style=\"color:blue\"><u>Further Guidance</u></summary>\n",
    "    \n",
    "> _ChatBots typically explain code fairly effectively, so a ChatBot will probably be very helpful if you share the full Monte Hall problem code; but, you can always introduce more specific and targetted follow-up prompts that help with focus, re-redirection, and response format regarding the ChatBot responses as needed._ \n",
    ">\n",
    "> _ChatBots won't always re-introduce and re-explain the Monte Hall problem itself, so if you need it to do so you may need to specifically request this as part of your prompt or follow up interactions._\n",
    "\n",
    "</details>\n"
   ]
  },
  {
   "cell_type": "markdown",
   "id": "419f96d4",
   "metadata": {},
   "source": [
    "Breakdown:"
   ]
  },
  {
   "cell_type": "code",
   "execution_count": 1,
   "id": "0fa8a172",
   "metadata": {},
   "outputs": [],
   "source": [
    "import numpy as np"
   ]
  },
  {
   "cell_type": "markdown",
   "id": "7fb28e77",
   "metadata": {},
   "source": [
    "numpy is a Python library used for generating random choices and mathmatical operations."
   ]
  },
  {
   "cell_type": "code",
   "execution_count": 2,
   "id": "e5cfede0",
   "metadata": {},
   "outputs": [],
   "source": [
    "all_door_options = (1, 2, 3)  # tuple\n",
    "my_door_choice = 1  # 1, 2, or 3\n",
    "i_won = 0\n",
    "reps = 100000"
   ]
  },
  {
   "cell_type": "markdown",
   "id": "f1509d7f",
   "metadata": {},
   "source": [
    "- all_door_options:a tuple representing the three doors: 1, 2, and 3.\n",
    "- my_door_choice: your initial door choice, set to door 1.\n",
    "- i_won: keeps track of the number of wins (how many times you end up picking the winning door).\n",
    "- reps: the number of repetitions for the simulation (100,000 times)."
   ]
  },
  {
   "cell_type": "code",
   "execution_count": 4,
   "id": "006a5911",
   "metadata": {},
   "outputs": [],
   "source": [
    "for i in range(reps):\n",
    "    secret_winning_door = np.random.choice(all_door_options)"
   ]
  },
  {
   "cell_type": "markdown",
   "id": "8a90cf35",
   "metadata": {},
   "source": [
    "- A loop runs the simulation reps times\n",
    "- secret_winning_door randomly picks one of the three doors as the door with the car behind it.\n"
   ]
  },
  {
   "cell_type": "code",
   "execution_count": 5,
   "id": "8c6ff49a",
   "metadata": {},
   "outputs": [],
   "source": [
    "all_door_options_list = list(all_door_options)\n",
    "all_door_options_list.remove(secret_winning_door)"
   ]
  },
  {
   "cell_type": "markdown",
   "id": "32a075ff",
   "metadata": {},
   "source": [
    "- Convert the tuple of doors to a list to modify it.\n",
    "- Remove the winning door from the list since Monty doesn't reveal the winning door right away."
   ]
  },
  {
   "cell_type": "code",
   "execution_count": 7,
   "id": "4df71a26",
   "metadata": {},
   "outputs": [],
   "source": [
    "try:\n",
    "    all_door_options_list.remove(my_door_choice)\n",
    "except:\n",
    "    pass"
   ]
  },
  {
   "cell_type": "markdown",
   "id": "df000127",
   "metadata": {},
   "source": [
    "If the player's initial door choice happens to be the winning door, it's already removed. This block tries to remove the player's door from the list to leave the doors Monty could reveal (goat doors)."
   ]
  },
  {
   "cell_type": "code",
   "execution_count": 8,
   "id": "e3696c01",
   "metadata": {},
   "outputs": [],
   "source": [
    "goat_door_reveal = np.random.choice(all_door_options_list)\n",
    "all_door_options_list.remove(goat_door_reveal)"
   ]
  },
  {
   "cell_type": "markdown",
   "id": "c80d162b",
   "metadata": {},
   "source": [
    "Monty randomly picks and reveals one of the remaining doors with a goat behind it (a losing door)."
   ]
  },
  {
   "cell_type": "code",
   "execution_count": 9,
   "id": "642431d3",
   "metadata": {},
   "outputs": [],
   "source": [
    "if secret_winning_door != my_door_choice:\n",
    "    all_door_options_list.append(secret_winning_door)"
   ]
  },
  {
   "cell_type": "markdown",
   "id": "32411f07",
   "metadata": {},
   "source": [
    "If the player's initial choice wasn't the winning door, the winning door is added back to the list for swapping."
   ]
  },
  {
   "cell_type": "code",
   "execution_count": 10,
   "id": "e1e3261a",
   "metadata": {},
   "outputs": [],
   "source": [
    "my_door_choice = all_door_options_list[0]"
   ]
  },
  {
   "cell_type": "markdown",
   "id": "58cee2e2",
   "metadata": {},
   "source": [
    "The player switches their door to the remaining option after Monty reveals a goat door."
   ]
  },
  {
   "cell_type": "code",
   "execution_count": 11,
   "id": "e32bb34d",
   "metadata": {},
   "outputs": [],
   "source": [
    "if my_door_choice == secret_winning_door:\n",
    "    i_won += 1"
   ]
  },
  {
   "cell_type": "markdown",
   "id": "2398a3f6",
   "metadata": {},
   "source": [
    "If the new door choice matches the secret_winning_door, increment the i_won counter.\n"
   ]
  },
  {
   "cell_type": "code",
   "execution_count": 12,
   "id": "bc3d8b10",
   "metadata": {},
   "outputs": [
    {
     "data": {
      "text/plain": [
       "0.0"
      ]
     },
     "execution_count": 12,
     "metadata": {},
     "output_type": "execute_result"
    }
   ],
   "source": [
    "i_won/reps"
   ]
  },
  {
   "cell_type": "markdown",
   "id": "16b8bf95",
   "metadata": {},
   "source": [
    "The total wins (i_won) are divided by the total repetitions (reps) to calculate the win percentage."
   ]
  },
  {
   "cell_type": "markdown",
   "id": "11581881",
   "metadata": {},
   "source": [
    "#### 2. Extend your ChatBot sessions to now address part \"3(b)\" of the **TUT Demo** and interact with your ChatBot to see if it can suggest a simpler, more streamlined way to code up this *for* loop simulation so the process is more clear and easier to understand; then, describe any preferences you have in terms of readibility or explainability  between the original code and the code improvements suggested by the ChatBot<br>\n",
    "\n",
    "<details class=\"details-example\"><summary style=\"color:blue\"><u>Further Guidance</u></summary>\n",
    "    \n",
    "> _The links in the TUT Demo show that there can be variation in the quality of the code improvements suggested by ChatBots; however, it's most likely that a ChatBot is going to be able to greatly reduce the number of steps/lines of code and hence complexity of understanding the problem. ChatBots can provide a good amount of explanation and inline clarifying code comments and provide more simpler more intuitive code that can transform something that looks a bit scary at first to something that's easy to follow and make sense of. Of course, in doing so, a ChatBot may introduce functions that you've technically not learned or seen before; but, the amount of simplification and clarifying comments is probably going to more than compensate for this; and, you'll have seen a learned a little bit more about what's possible through this process, which is the ideal experience we're hoping you'll see here._ \n",
    "    \n",
    "</details>\n",
    "        "
   ]
  },
  {
   "cell_type": "markdown",
   "id": "36be7281",
   "metadata": {},
   "source": [
    "I prefer new code that is suggested by Chatbot in terms of readability because they suggested descritive names such as winning_door, goat_door and swapped_door instead of having like all_door_options_list.remove(goat_door_reveal)and so on in the orginal code. Also, instead of working with lists and appending or removing doors, the swapping is done by directly choosing the door that is neither the player's initial choice nor the revealed goat door. Furthermore, I prefer not having 2 \"if\"s seen in the original one because it is easier to follow the code."
   ]
  },
  {
   "cell_type": "markdown",
   "id": "f3fdebd8",
   "metadata": {},
   "source": [
    "#### 3. Submit your preferred version of the Monty Hall problem that is verified to be running and working with a final printed output of the code; then, add code comments explaining the purpose of each line of the code<br>\n",
    "\n",
    "<details class=\"details-example\"><summary style=\"color:blue\"><u>Further Guidance</u></summary>\n",
    "    \n",
    "> _Your ChatBot will likely do much of this for you, but verify for yourself that you understand each comment and reword comments wherever you think it would be better to explain it differently._\n",
    ">\n",
    "> _Remember to ask for summaries of your current session and paste these into your homework notebook  (including link(s) to chat log histories if you're using ChatGPT)_\n",
    "\n",
    "</details>\n",
    " "
   ]
  },
  {
   "cell_type": "markdown",
   "id": "5117e792",
   "metadata": {},
   "source": [
    "Simple code suggested by Chatbot:"
   ]
  },
  {
   "cell_type": "code",
   "execution_count": 16,
   "id": "49c6250b",
   "metadata": {
    "scrolled": true
   },
   "outputs": [
    {
     "data": {
      "text/plain": [
       "0.66817"
      ]
     },
     "execution_count": 16,
     "metadata": {},
     "output_type": "execute_result"
    }
   ],
   "source": [
    "import numpy as np\n",
    "\n",
    "# Initialize variables\n",
    "all_door_options = (1, 2, 3)\n",
    "my_door_choice = 1  # Always start by choosing door 1\n",
    "i_won = 0  # Count wins\n",
    "reps = 100000  # Number of simulations\n",
    "\n",
    "for i in range(reps):\n",
    "    # Randomly select the winning door\n",
    "    winning_door = np.random.choice(all_door_options)\n",
    "\n",
    "    # Monty reveals a goat door (not the player's choice and not the winning door)\n",
    "    remaining_doors = [door for door in all_door_options if door != my_door_choice and door != winning_door]\n",
    "    goat_door = np.random.choice(remaining_doors)\n",
    "\n",
    "    # Simulate swapping to the other unopened door\n",
    "    swapped_door = [door for door in all_door_options if door != my_door_choice and door != goat_door][0]\n",
    "\n",
    "    # Check if swapped door is the winning door\n",
    "    if swapped_door == winning_door:\n",
    "        i_won += 1\n",
    "\n",
    "# Calculate the win percentage\n",
    "win_percentage = i_won / reps\n",
    "win_percentage"
   ]
  },
  {
   "cell_type": "markdown",
   "id": "743cd420",
   "metadata": {},
   "source": [
    "Code breakdown: "
   ]
  },
  {
   "cell_type": "code",
   "execution_count": 18,
   "id": "0ba0ab32",
   "metadata": {},
   "outputs": [],
   "source": [
    "import numpy as np"
   ]
  },
  {
   "cell_type": "markdown",
   "id": "889ec96b",
   "metadata": {},
   "source": [
    "Purpose:importing the numpy library to use its random.choice function for randomly picking the winning door in the simulation."
   ]
  },
  {
   "cell_type": "code",
   "execution_count": 19,
   "id": "a41430b2",
   "metadata": {},
   "outputs": [],
   "source": [
    "all_door_options = (1, 2, 3)\n",
    "my_door_choice = 1  # Always start by choosing door 1\n",
    "i_won = 0  # Count wins\n",
    "reps = 100000  # Number of simulations"
   ]
  },
  {
   "cell_type": "markdown",
   "id": "e3eaf14d",
   "metadata": {},
   "source": [
    "- all_door_options: This tuple represents the three doors (1, 2, 3) in the Monty Hall problem.\n",
    "- my_door_choice: You initially pick door 1 for every simulation.\n",
    "- i_won: This variable keeps track of how many times you win (i.e., how many times you pick the door with the car behind it after swapping).\n",
    "- reps: This is the number of repetitions (simulations) we are running to test the Monty Hall problem. In this case, it's set to 100,000 simulations."
   ]
  },
  {
   "cell_type": "code",
   "execution_count": 22,
   "id": "cac99138",
   "metadata": {},
   "outputs": [
    {
     "ename": "SyntaxError",
     "evalue": "incomplete input (3295782592.py, line 1)",
     "output_type": "error",
     "traceback": [
      "\u001b[0;36m  Cell \u001b[0;32mIn[22], line 1\u001b[0;36m\u001b[0m\n\u001b[0;31m    for i in range(reps):\u001b[0m\n\u001b[0m                         ^\u001b[0m\n\u001b[0;31mSyntaxError\u001b[0m\u001b[0;31m:\u001b[0m incomplete input\n"
     ]
    }
   ],
   "source": [
    "for i in range(reps):"
   ]
  },
  {
   "cell_type": "markdown",
   "id": "8851e68e",
   "metadata": {},
   "source": [
    "Purpose: This for loop will run the Monty Hall simulation reps (100,000) times. Each loop iteration represents one game of the Monty Hall problem. "
   ]
  },
  {
   "cell_type": "code",
   "execution_count": 23,
   "id": "2ef7ac48",
   "metadata": {},
   "outputs": [],
   "source": [
    "    winning_door = np.random.choice(all_door_options)"
   ]
  },
  {
   "cell_type": "markdown",
   "id": "ded00b92",
   "metadata": {},
   "source": [
    "Purpose: Randomly select one of the three doors to be the winning door, which has the car behind it. The np.random.choice function picks one door from the all_door_options tuple"
   ]
  },
  {
   "cell_type": "code",
   "execution_count": 24,
   "id": "f459ef4d",
   "metadata": {},
   "outputs": [],
   "source": [
    "    remaining_doors = [door for door in all_door_options if door != my_door_choice and door != winning_door]\n",
    "    goat_door = np.random.choice(remaining_doors)"
   ]
  },
  {
   "cell_type": "markdown",
   "id": "8b69fc1b",
   "metadata": {},
   "source": [
    "Purpose of remaining_doors: This line creates a list of doors that Monty can reveal (goat doors). It excludes:\n",
    "- Your initial choice (my_door_choice)\n",
    "- The winning door (winning_door)\n",
    "After filtering, the list remaining_doors will have one or two doors (the ones with goats behind them).\n",
    "\n",
    "Purpose of goat_door: Monty randomly selects one of the remaining doors to reveal. This door has a goat behind it."
   ]
  },
  {
   "cell_type": "code",
   "execution_count": 25,
   "id": "65e771cc",
   "metadata": {},
   "outputs": [],
   "source": [
    "    swapped_door = [door for door in all_door_options if door != my_door_choice and door != goat_door][0]"
   ]
  },
  {
   "cell_type": "markdown",
   "id": "b5f45976",
   "metadata": {},
   "source": [
    "Purpose: After Monty reveals the goat door, you swap to the remaining unopened door. This line selects the door that is:\n",
    "- Neither your original choice (my_door_choice)\n",
    "- Nor the door Monty revealed (goat_door)\n",
    "The [0] at the end ensures you select the only door left (the unopened one)."
   ]
  },
  {
   "cell_type": "code",
   "execution_count": 26,
   "id": "6e598f8e",
   "metadata": {},
   "outputs": [],
   "source": [
    "    if swapped_door == winning_door:\n",
    "        i_won += 1"
   ]
  },
  {
   "cell_type": "markdown",
   "id": "70e8eae5",
   "metadata": {},
   "source": [
    "Purpose: This condition checks if the door you swapped to (swapped_door) is the same as the winning door (winning_door). If so, it means you win the car, and we increment the i_won counter by 1."
   ]
  },
  {
   "cell_type": "code",
   "execution_count": 27,
   "id": "7fdfdf04",
   "metadata": {},
   "outputs": [
    {
     "data": {
      "text/plain": [
       "1e-05"
      ]
     },
     "execution_count": 27,
     "metadata": {},
     "output_type": "execute_result"
    }
   ],
   "source": [
    "win_percentage = i_won / reps\n",
    "win_percentage"
   ]
  },
  {
   "cell_type": "markdown",
   "id": "46c874c2",
   "metadata": {},
   "source": [
    "Purpose: After running all simulations, we calculate the win percentage by dividing the number of wins (i_won) by the total number of simulations (reps)."
   ]
  },
  {
   "cell_type": "markdown",
   "id": "ceafce79",
   "metadata": {},
   "source": [
    "Summary of chatbot session:"
   ]
  },
  {
   "cell_type": "markdown",
   "id": "ed542249",
   "metadata": {},
   "source": [
    "1.Data Cleaning: You started by working with datasets, including the Titanic dataset, and discussed handling missing data using methods like dropna() and del df[\"col\"]. You also sought help understanding basic data analysis.\n",
    "\n",
    "2.Programming Learning: You've been learning programming and solving coding-related issues. We addressed debugging in Jupyter Notebook and reviewed error messages like 'NameError: name 'pd' is not defined.'\n",
    "\n",
    "3.Mathematical Problems: You worked on problems related to the surface area and volume of cylindrical cans, applying math concepts in practical scenarios.\n",
    "\n",
    "4.Monty Hall Problem: We explored the Monty Hall problem, going through an initial version of the code and simplifying it. I explained the steps in the simulation, making the logic clearer for understanding probability and outcomes.\n",
    "\n",
    "link: https://chatgpt.com/share/66e89701-8678-8005-91f6-f7e38106d2c6"
   ]
  },
  {
   "cell_type": "code",
   "execution_count": 17,
   "id": "a52754504a625b36",
   "metadata": {
    "scrolled": true
   },
   "outputs": [
    {
     "data": {
      "image/jpeg": "[encoded data removed]",
      "text/html": [
       "\n",
       "        <iframe\n",
       "            width=\"550\"\n",
       "            height=\"300\"\n",
       "            src=\"https://www.youtube.com/embed/56mGTszb_iM\"\n",
       "            frameborder=\"0\"\n",
       "            allowfullscreen\n",
       "            \n",
       "        ></iframe>\n",
       "        "
      ],
      "text/plain": [
       "<IPython.lib.display.YouTubeVideo at 0x7f57b2b81850>"
      ]
     },
     "execution_count": 17,
     "metadata": {},
     "output_type": "execute_result"
    }
   ],
   "source": [
    "# Markov Chains and Text Generation\n",
    "from IPython.display import YouTubeVideo\n",
    "YouTubeVideo('56mGTszb_iM', width = 550)"
   ]
  },
  {
   "cell_type": "markdown",
   "id": "b266cd9f",
   "metadata": {},
   "source": [
    "The first version of my \"Markovian Chatbot\" code aims to create a Markov model from a list of words, which can later be used to predict the next word in a sequence based on the current word. \n",
    "\n",
    "How it works? \n",
    "1. Tracking word counts:\n",
    "The dictionary word_used keeps track of how many times each word appears in the text.\n",
    "2. Tracking word pairs:\n",
    "The dictionary next_word remembers which word comes after each word and how often it happens.\n",
    "\n",
    "what happens in the loop: \n",
    "For each word in the list:\n",
    "--> It checks if the word has been seen before:\n",
    "- If yes, it increases the count of how many times we’ve seen this word.\n",
    "- If no, it adds the word to word_used and creates an empty spot in next_word to track the words that follow it.\n",
    "Then, it looks at the word that comes next and checks if we’ve seen that pair before:\n",
    "- If yes, it increases the count of how many times this word pair appears.\n",
    "- If no, it adds the next word to the list of words that follow the current word and sets the count to 1."
   ]
  },
  {
   "cell_type": "markdown",
   "id": "b74e766c",
   "metadata": {},
   "source": [
    "summary:\n",
    "1. Initial Query: You shared code for a \"Markovian Chatbot\" and requested an explanation of how the original version works.\n",
    "\n",
    "2. Explanation Provided: I described how the code builds a Markov model by tracking word usage and the frequency of words that follow each other. The word_used dictionary counts how often each word appears, while the next_word dictionary keeps track of which words follow each word and how frequently.\n",
    "\n",
    "3. Simplification Request: You asked for a simpler explanation to make it easier to understand.\n",
    "\n",
    "4. Simplified Explanation: I provided a more straightforward breakdown of how the code tracks word occurrences and word pairs to predict the next word in a sequence, using an example sentence to illustrate.\n",
    "\n",
    "Link: https://chatgpt.com/share/66e899cc-b3c0-8005-9304-1350b2e1f27a"
   ]
  },
  {
   "cell_type": "markdown",
   "id": "7a17e608",
   "metadata": {},
   "source": [
    "<details class=\"details-example\"><summary style=\"color:blue\"><u>Continue now...?</u></summary>\n",
    "\n",
    "### Pre-lecture VS Post-lecture HW\n",
    "\n",
    "Feel free to work on the \"Post-lecture\" HW below if you're making good progress and want to continue: for **HW 02** continuing could be reasonable because questions \"5-7\" below directly follow up and extend \"Pre-lecture\" HW question \"4\"\n",
    "\n",
    "*The benefits of continue would are that (a) it might be fun to try to tackle the challenge of working through some problems without additional preparation or guidance; and (b) this is a very valable skill to be comfortable with; and (c) it will let you build experience interacting with ChatBots (and beginning to understand their strengths and limitations in this regard)... it's good to have sense of when using a ChatBot is the best way to figure something out, or if another approach (such as course provided resources or a plain old websearch for the right resourse) would be more effective*\n",
    "    \n",
    "</details>    "
   ]
  },
  {
   "cell_type": "markdown",
   "id": "d6ae0a64",
   "metadata": {},
   "source": [
    "### \"Post-lecture\" HW [*submission along with \"Pre-lecture\" HW is due prior to next TUT*]"
   ]
  },
  {
   "cell_type": "markdown",
   "id": "a3979c94",
   "metadata": {},
   "source": [
    "#### 5. Recreate (or resume) the previous ChatBot session from question \"4\" above, and now  prompt the ChatBot session that you have a couple extensions of the code to show it, and then show it each of the extentions of the \"Markovian ChatBot code\" below in turn\n",
    "\n",
    "\n",
    "\n",
    "1. Without just supplying your ChatBot session with the answers, see if the ChatBot can figure out what the extensions in the code do; namely, making character specific Markov chains, and using bigrams (rather than just the previous word alone) dependency... prompt your ChatBot session with some hints if it's not seeming to \"get it\"<br><br>\n",
    "    \n",
    "2. Interact with your ChatBot session to have it explain details of the code wherever you need help understanding what the code is doing and how it works<br><br>\n",
    "    \n",
    "3. Start yet another new ChatBot session and first show the ChatBot the original \"Markovian ChatBot code\" below, and then tell ChatBot that you have an extension but this time just directly provide it the more complicated final extension without ever providing the intermediate extension code to the ChatBot session and see if it's still able to understand everything extension does; namely, making character specific Markov chains, and using bigrams (rather than just the previous word alone) dependency... prompt the ChatBot with some hints if it's not seeming to understand what you're getting at...<br><br>\n",
    "    \n",
    "<details class=\"details-example\"><summary style=\"color:blue\"><u>Further Guidance</u></summary>\n",
    "\n",
    "> **ALERT: Time Warning**. Regarding the comments below (which will likely be relevant and useful for you), you might find the potential learning experience that this provides to be a quite the rabbit total rabbit hole and time sink. You might end up finding out that you spent way more time than I should on learning the code!! So be mindful of your time management as there is much to do for many classes!\n",
    ">    \n",
    "> _As you may or may not have already experienced in the previous problem, a ChatBot applied to this problem is likely to start explaining a bit more knowledge about Python than you need to know (as a student just trying to learn stats+DS); however, you'll probably feel like this \"out of scope\" context information is helpful to know (or at least be aware of) and easy to understand and learn if you use some addtional prompts to dig deeper into them. A ChatBot will be quite good at explaining and helping understand smaller chunks of code; however, if given too much information at once it can gloss over some information._\n",
    ">   \n",
    "> _That said, some topics here are potentially quite and advanced and too tricky! You might be able to ask the ChatBot to simplify its explanations and that might help a bit. But on the other hand, some topics, such as, \"how does `nested_dict = lambda: defaultdict(nested_dict)` work?\" might just simply be too advanced to really admit a simpler explanation via a ChatBot. You'll have to let these sorts of things go, if you come across explanations that just aren't improving or helping at at. In the case of `defaultdict(nested_dict)` specifically, the details here are well beyond the scope of STA130 and can be very safely ignored for now. The code will have reviewed and \"walked thorugh\" in LEC, but the perspectives espoused there will be the extent of the formal commentary and information regarding the coding topics we encounter in the Markov ChatBots code here._\n",
    ">     \n",
    "> _Unlike with the Monte Hall problem, we will not inquire with the ChatBot to see if it can suggest any streamlining, readability, or usability improvements to the alternative versions of the \"Markovian ChatBot code\" we're examining_\n",
    ">     \n",
    "> - _because doing so seems to result in the attempted creation of dubiously functional modular code with a focus on reusability (which is likely a result of ChatBot design being primarily a \"computer science\" topic), so ChatBot reponses here tend to orient around programming and system design principles (despite \"Markovian\" very much being a \"statistics\" topic)_\n",
    ">     \n",
    "> _Programming and system design principles are beyond the scope of STA130; but, they are critical for modern data science careers... if you are interested in pursuing a data science career, it is imperitive that you complete courses like CSC263, CSC373, and perhaps an additional \"systems design\" course_\n",
    "> \n",
    "> ---\n",
    "> \n",
    "> _Don't forget to ask for summaries of all your different ChatBot sessions and organize and paste these into your homework notebook (including link(s) to chat log histories if you're using ChatBot)_\n",
    "    \n",
    "</details>\n",
    "     "
   ]
  },
  {
   "cell_type": "markdown",
   "id": "30225f97",
   "metadata": {},
   "source": [
    "5.1) \n",
    "\n",
    "Extention 1: using Bigrams --> the extention1 modifies the original Markov model to use bigrams instead of single words. \n",
    "\n",
    "Breakdown: \n",
    "- word_used2[word+' '+words[i+1]] += 1:\n",
    "--> Instead of counting single words, this counts word pairs (bigrams). It looks at the current word (word) and the next word (words[i+1]) and combines them into a single bigram.\n",
    "--> The bigram is stored as a key in word_used2, and the count of how often that bigram appears is incremented.\n",
    "\n",
    "- next_word2[word+' '+words[i+1]][words[i+2]] += 1:\n",
    "--> the code records what word (words[i+2]) comes after the bigram (word + words[i+1]).\n",
    "--> The dictionary next_word2 tracks how often a specific word follows a given bigram.\n",
    "\n",
    "Extention 2: Charater-specific Markov Chains --> the extention2 build Markov chains specific to characters in a dataset. It uses the avatar dataset's character column to identify characters and associate text sequences with them.\n",
    "\n",
    "Breakdown:\n",
    "1. characters = Counter(...):\n",
    "- This code processes the character column of the avatar dataset. It converts each character name to uppercase, replaces spaces with periods, and counts occurrences of character names.\n",
    "\n",
    "2. nested_dict = lambda: defaultdict(nested_dict):\n",
    "- This creates a recursive structure (nested_dict) that allows for creating dictionaries within dictionaries automatically. It's used to organize the data by character.\n",
    " \n",
    "3. Loop Through Words:\n",
    "- The code loops over the words just like in the bigram model, but now it associates each bigram and next word with a specific character.\n",
    "\n",
    "4. Character-Specific Word Tracking:\n",
    "\n",
    "- word_used2C[character][word+' '+words[i+1]]:\n",
    "--> For each character, the code tracks the bigram and how many times it appears for that specific character.\n",
    "- next_word2C[character][word+' '+words[i+1]][words[i+2]]:\n",
    "--> This tracks what words come after each bigram for each character.\n",
    "\n",
    "Main differences between extention 1 and 2: \n",
    "- Extension 1 adds more context by using bigrams (word pairs).\n",
    "- Extension 2 makes the model character-specific, allowing for separate Markov chains for each character in the dataset."
   ]
  },
  {
   "cell_type": "markdown",
   "id": "c23d26cb",
   "metadata": {},
   "source": [
    "5.2) For extention 1, I specically asked what next_word2[word+' '+words[i+1]][words[i+2]] += 1 is doing and how it works. \n",
    "\n",
    "Chatbot gave me more detailed breakdown of the code with examples: \n",
    "\n",
    "1. word + ' ' + words[i+1]:\n",
    "- This creates a bigram: a combination of two consecutive words (the current word word and the next word words[i+1]).\n",
    "- Example: If word = \"hello\" and words[i+1] = \"world\", the result would be the bigram \"hello world\".\n",
    "\n",
    "2. next_word2[word + ' ' + words[i+1]]:\n",
    "- This is accessing the dictionary next_word2, which keeps track of what words usually come after each bigram.\n",
    "- For example, if you have the bigram \"hello world\", next_word2[\"hello world\"] will give you another dictionary that tracks the words that follow \"hello world\" in the text.\n",
    "\n",
    "3.[words[i+2]]:\n",
    "- This is the next word after the bigram (words[i+2] is the word following word and words[i+1]).\n",
    "- For example, if words[i+2] = \"there\", this is checking how many times \"there\" comes after the bigram \"hello world\".\n",
    "\n",
    "4. += 1:\n",
    "- This increases the count by 1 each time the same sequence (bigram + next word) appears in the text.\n",
    "\n",
    "For extention 2, I asked chatbot to explain what too many of \"if\"s do and explain to me concisely. \n",
    "\n",
    "How It Works:\n",
    "- It identifies which character is speaking based on the words.\n",
    "- It records each word pair (bigram) that the character says.\n",
    "- It also tracks what word follows each bigram for that character."
   ]
  },
  {
   "cell_type": "markdown",
   "id": "acc9d2c1",
   "metadata": {},
   "source": [
    "Summary of chatbot: \n",
    "1. Markovian Chatbot Explanation: You initially shared the first version of a \"Markovian Chatbot\" code, and I explained how it builds a Markov model by tracking word usage and word pairs (which word comes after another).\n",
    "\n",
    "2. Simplified Explanation: You asked for a simpler explanation, and I broke down the process further, explaining how it predicts the next word based on word sequences.\n",
    "\n",
    "3. Extensions of the Code:\n",
    "\n",
    "- Extension 1 (Bigrams): You shared a version of the code that uses bigrams (word pairs) to predict the next word. I explained that this tracks pairs of consecutive words (e.g., \"hello world\") and records the word that follows them.\n",
    "--> You asked for more clarity on the line next_word2[word + ' ' + words[i+1]][words[i+2]] += 1, and I explained that it tracks what word comes after a specific bigram.\n",
    "- Extension 2 (Character-Specific Markov Chains): You shared another version where the Markov chains are built for specific characters. I explained that it tracks bigrams and what follows for each character separately.\n",
    "--> You were confused by the multiple \"if\" statements, so I gave a concise explanation: the code identifies the speaker, records the bigrams used by the character, and tracks what word follows each bigram.\n",
    "4. Shorter Explanations: You asked for even shorter explanations, and I summarized each extension in a few sentences.\n",
    "\n",
    "Link: https://chatgpt.com/share/66e899cc-b3c0-8005-9304-1350b2e1f27a"
   ]
  },
  {
   "cell_type": "markdown",
   "id": "8e539f0b",
   "metadata": {},
   "source": [
    "5.3) \n",
    "\n",
    "- The code builds character-specific Markov chains using bigrams (pairs of consecutive words).\n",
    "- It tracks word sequences in a dataset where character is a column, ensuring that each chain is tied to a specific character.\n",
    "- For each character:\n",
    " --> Bigrams (two consecutive words) are counted in word_used2C.\n",
    " --> For each bigram, the next word (third word) is tracked and counted in next_word2C."
   ]
  },
  {
   "cell_type": "markdown",
   "id": "9d218b6b",
   "metadata": {},
   "source": [
    "Summary: \n",
    "- You’ve been working with datasets, including handling missing values and performing basic summary analyses (e.g., the Titanic dataset).\n",
    "- You’re learning coding/programming and encountered common errors in Jupyter Notebook (like needing to restart the kernel).\n",
    "- We’ve discussed geometry problems (cylindrical cans) and probability concepts (Monty Hall problem).\n",
    "- You’ve been developing a Markovian Chatbot and explored various extensions:\n",
    "--> Initially, we discussed a basic Markov model that predicts the next word based on the previous word.\n",
    "--> You then extended this with character-specific Markov chains and bigram dependencies (tracking transitions between word pairs for each character).\n",
    " link: https://chatgpt.com/share/66ea0032-3a90-8005-bba3-93e16b08d223"
   ]
  },
  {
   "cell_type": "markdown",
   "id": "116f0a96",
   "metadata": {},
   "source": [
    "#### 6. Report on your experience interacting with ChatBots to understand the Monte Hall problem and \"Markovian ChatBot\" code\n",
    "\n",
    "1. Discuss how quickly the ChatBot was able to be helpful for each of the above questions, and if so, how?<br><br>\n",
    "    \n",
    "2. Discuss whether or not interacting with ChatBot to try to figure things out was frustrating or unhelpful, and if so, how?<br><br>\n",
    "    \n",
    "3. Based on your experiences to date (e.g., including using ChatBots to troubleshoot coding errors in the previous homework), provide an overall assessment evaluating the usefulness of ChatBots as tools to help you understand code<br>"
   ]
  },
  {
   "cell_type": "markdown",
   "id": "00ade828",
   "metadata": {},
   "source": [
    "6.1) The ChatBot was able to be helpful for each question. Chatbot answers our questions based on its training data. Such bots can understand our questions and maintain the context of the conversation, allowing them to resolve customer queries quickly and efficiently. Since they are trained to generate the answer in order to asnwer our quesitons perfectly, they have a wide range of flexibility to us. \n",
    "\n",
    "6.2) I think that interacting with ChatBot to try to figure things out was helpful most of the time, however, I felt frustrated when they sometimes gave me minor errors, repetitive and long answers that is hard to follow. \n",
    "\n",
    "6.3)Overall, I think that ChatBot can provide clear answers and fix troubleshoot coding errors very quickly and accurately, which makes it easier for humans to solve problems efficiently.  "
   ]
  },
  {
   "cell_type": "markdown",
   "id": "4642d6c2",
   "metadata": {},
   "source": [
    "#### 7. Reflect on your experience interacting with ChatBot and describe how your perception of AI-driven assistance tools in the context of learning coding, statistics, and data science has been evolving (or not) since joining the course<br><br>\n",
    "\n",
    "<details class=\"details-example\"><summary style=\"color:blue\"><u>Further Guidance</u></summary>\n",
    "    \n",
    "> _Question \"7\" and the next question \"8\" are somewhat related to the first bullet point in the suggested interactions of the \"Afterword\" to the Homework from last week... consider reviewing that if you'd like a little extra orienting around what these questions are trying to have you explore_\n",
    "   \n",
    "</details>"
   ]
  },
  {
   "cell_type": "markdown",
   "id": "481dd70b",
   "metadata": {},
   "source": [
    "My perception of AI-driven assistance tools has been evolving as I elaborate my questions over and over so that ChatBot can give me the answers that I want. For example, when the Chatbot provided me with very long and unclear answers to my questions, I always asked them further by saying, \"Can you please summarize your answer so that I can easily understand?\". Since the Chatbot could give me flexible answers each time, I found it very useful and believed that it is a necessary tool when it comes to learning coding, statistics and data science because there are many complex problems that humans can't easily solve.   "
   ]
  },
  {
   "cell_type": "markdown",
   "id": "500f440e",
   "metadata": {},
   "source": [
    "#### 8. ChatBots consume text data available on the web or platforms, and thus represents a new way to \"search consensensus\" that condenses and summarizes mainstream human thought<br><br>\n",
    "\n",
    "1. Start a new ChatBot session and discuss the relevance of learning and adaptability, communication, coding, and statistics and data analysis as skills in the modern world, especially with respect to career opportunities (particularly in the context of the data science industry)<br><br>\n",
    "    \n",
    "2. See if ChatBot thinks you could be a statistician or data scientist without coding or doing data analysis, and then transition your ChatBot conversation into a career exploration discussion, using the ChatBot to identify the skills that might be the most valuable for a career that you're interested<br><br>\n",
    "    \n",
    "3. Ask for a summary of this ChatBot session and paste it into your homework notebook (including link(s) to chat log histories if you're using ChatBot)<br><br>\n",
    "    \n",
    "4. Paraphrase the assessments and conclusions of your conversation in the form of a reflection on your current thoughts regarding your potential future career(s) and how you can go about building the skills you need to pursue it<br><br>\n",
    "\n",
    "5. Give your thoughts regarding the helpfulness or limitations of your conversation with a ChatBot, and describe the next steps you would take to pursue this conversation further if you felt the information the ChatBot provides was somewhat high level and general, and perhaps lacked the depth and detailed knowledge of a dedicated subject matter expert who had really take the time to understand the ins and outs of the industry and career path in question.\n",
    "<br><br>\n",
    "\n",
    "<details class=\"details-example\"><summary style=\"color:blue\"><u>Further Guidance</u></summary>\n",
    "\n",
    "> _While question 8 is not a part of the rubric, it is nonetheless a very good exercise that will likely be valuable for you if you engage it them sincerely_\n",
    "    \n",
    "</details>\n"
   ]
  },
  {
   "cell_type": "markdown",
   "id": "8ab1e633",
   "metadata": {},
   "source": [
    "summary: \n",
    "1. Skills in the Modern World: We discussed the importance of learning and adaptability, communication, coding, and statistics/data analysis in the data science industry. Each skill plays a crucial role in career success and opportunities.\n",
    "\n",
    "2. Consultant-Related Job Skills: We explored the valuable skills for a consultant-related career, including communication, problem-solving, industry knowledge, data analysis, project management, client management, adaptability, and technical skills.\n",
    "\n",
    "link: https://chatgpt.com/share/66ea02aa-7050-8005-b1bc-34beac59bf2c"
   ]
  },
  {
   "cell_type": "markdown",
   "id": "c9abd6d2",
   "metadata": {},
   "source": [
    "8.4) As Chatbot provided me, I understand that i need communication and problem-solving skills in order to be successful in a consultant-related job, especially in data science or analytics. I should build those skills by paying attention to complex ideas and trying to communicate about it with others then find a solution by using critical thinking. I also believe that I should be open-minded because even though you think that your answer is correct and certain, there might be another part that you are missing. So I should be more open to new perspectives and be able to make a decision by incorporating different angles.  "
   ]
  },
  {
   "cell_type": "markdown",
   "id": "9b238bac",
   "metadata": {},
   "source": [
    "8.5) I believe that the Chatbot is very helpful when you want to get a very quick answer to your problem. They were designed and trained to answer your question effectively based on a wide range of data and information. Therefore, the chatbot can provide you the best answer to your question right away. However, the chatbot has a limitation that it does not provide very specific and professional answer to your quesiton if you ask them only once. In this case, you have to evaborate your question by pointing or highlighting what kind of informaiton you want from Chatbot and keep asking them until you got your final answer. "
   ]
  },
  {
   "cell_type": "markdown",
   "id": "b489452e",
   "metadata": {},
   "source": [
    "#### 9. Have you reviewed the course [wiki-textbook](https://github.com/pointOfive/stat130chat130/wiki) and interacted with a ChatBot (or, if that wasn't sufficient, real people in the course piazza discussion board or TA office hours) to help you understand all the material in the tutorial and lecture that you didn't quite follow when you first saw it?<br><br>\n",
    "  \n",
    "<details class=\"details-example\"><summary style=\"color:blue\"><u>Further Guidance</u></summary>\n",
    "    \n",
    "> _Just answering \"Yes\" or \"No\" or \"Somewhat\" or \"Mostly\" or whatever here is fine as this question isn't a part of the rubric; but, the midterm and final exams may ask questions that are based on the tutorial and lecture materials; and, your own skills will be limited by your familiarity with these materials (which will determine your ability to actually do actual things effectively with these skills... like the course project...)_\n",
    "    \n",
    "</details>"
   ]
  },
  {
   "cell_type": "markdown",
   "id": "399bc2e7",
   "metadata": {},
   "source": [
    "somewhat. "
   ]
  },
  {
   "cell_type": "code",
   "execution_count": null,
   "id": "16f95257fb4fda6c",
   "metadata": {},
   "outputs": [],
   "source": [
    "# Markovian Chatbot\n",
    "\n",
    "# from collections import defaultdict\n",
    "word_used = dict() # defaultdict(int)\n",
    "next_word = dict() # defaultdict(lambda: defaultdict(int))\n",
    "for i,word in enumerate(words[:-1]):\n",
    "\n",
    "    if word in word_used:\n",
    "        word_used[word] += 1\n",
    "    else:\n",
    "        word_used[word] = 1\n",
    "        next_word[word] = {}\n",
    "\n",
    "    if words[i+1] in next_word[word]:\n",
    "        next_word[word][words[i+1]] += 1\n",
    "    else:\n",
    "        next_word[word][words[i+1]] = 1"
   ]
  },
  {
   "cell_type": "code",
   "execution_count": null,
   "id": "bd0e5d2163411e8e",
   "metadata": {},
   "outputs": [],
   "source": [
    "# Markovian Chatbot Extension #1\n",
    "\n",
    "word_used2 = defaultdict(int)\n",
    "next_word2 = defaultdict(lambda: defaultdict(int))\n",
    "for i,word in enumerate(words[:-2]):\n",
    "    word_used2[word+' '+words[i+1]] += 1\n",
    "    next_word2[word+' '+words[i+1]][words[i+2]] += 1 "
   ]
  },
  {
   "cell_type": "code",
   "execution_count": null,
   "id": "33fe616edecddb60",
   "metadata": {},
   "outputs": [],
   "source": [
    "# Markovian Chatbot Extension #2\n",
    "\n",
    "from collections import Counter, defaultdict\n",
    "# `avatar` is a dataset, and `character` is one of it's columns\n",
    "characters = Counter(\"\\n\"+ avatar.character.str.upper().str.replace(' ','.')+\":\")\n",
    "# this code changes the type of the `character` column to `str`; then,\n",
    "# makes the text uppercase, and replaces spaces with '.'\n",
    "\n",
    "nested_dict = lambda: defaultdict(nested_dict)\n",
    "word_used2C = nested_dict()\n",
    "next_word2C = nested_dict()\n",
    "\n",
    "for i,word in enumerate(words[:-2]):\n",
    "    if word in characters:\n",
    "        character = word\n",
    "        \n",
    "    if character not in word_used2C:\n",
    "        word_used2C[character] = dict()\n",
    "    if word+' '+words[i+1] not in word_used2C[character]:\n",
    "        word_used2C[character][word+' '+words[i+1]] = 0\n",
    "    word_used2C[character][word+' '+words[i+1]] += 1\n",
    "    \n",
    "    if character not in next_word2C:\n",
    "        next_word2C[character] = dict()\n",
    "    if word+' '+words[i+1] not in next_word2C[character]:\n",
    "        next_word2C[character][word+' '+words[i+1]] = dict()\n",
    "    if words[i+2] not in next_word2C[character][word+' '+words[i+1]]:\n",
    "        next_word2C[character][word+' '+words[i+1]][words[i+2]] = 0\n",
    "    next_word2C[character][word+' '+words[i+1]][words[i+2]] += 1"
   ]
  },
  {
   "cell_type": "markdown",
   "id": "1ebfa9b9",
   "metadata": {},
   "source": [
    "## Recommended Additional Useful Activities [Optional]\n",
    "\n",
    "The \"Ethical Profesionalism Considerations\" and \"Current Course Project Capability Level\" sections below **are not a part of the required homework assignment**; rather, they are regular weekly guides covering (a) relevant considerations regarding professional and ethical conduct, and (b) the analysis steps for the STA130 course project that are feasible at the current stage of the course <br><br>\n",
    "\n",
    "\n",
    "<details class=\"details-example\"><summary style=\"color:blue\"><u>Ethical Professionalism Considerations</u></summary>\n",
    "\n",
    "### Ethical Professionalism Considerations\n",
    "\n",
    "    \n",
    "> 1. If you've not heard of the \"reproducibility crisis\" in science, have a ChatBot explain it to you\n",
    "> 2. If you've not heard of the \"open source software\" (versus proprietary software), have a ChatBot explain it to you\n",
    "> 3. \"Reproducibility\" can also be considered at the level of a given data analysis project: can others replicate the results of code or analysis that you've done?\n",
    ">    1. Discuss with a ChatBot how jupyter notebooks and github can be used facilitate transparency and reproducibility in data analysis\n",
    "> 4. Discuss with a ChatBot what the distinction is between replicability of scientific experiments, versus the replicability of a specific data analysis project, and what your responsibility as an analyst should be with respect to both\n",
    "> 5. Do you think proprietary (non \"open source software\") software, such as Microsoft Word, Outlook, and Copilot tends to result in high quality products?  \n",
    ">     1. Do you think software product monopolies (such as the UofT dependence on Microsoft products) makes the world a better place?\n",
    "</details>    \n",
    "\n",
    "<details class=\"details-example\"><summary style=\"color:blue\"><u>Current Course Project Capability Level</u></summary>\n",
    "\n",
    "### Current Course Project Capability Level\n",
    "   \n",
    "**Remember to abide by the [data use agreement](https://static1.squarespace.com/static/60283c2e174c122f8ebe0f39/t/6239c284d610f76fed5a2e69/1647952517436/Data+Use+Agreement+for+the+Canadian+Social+Connection+Survey.pdf) at all times.**\n",
    "\n",
    "Information about the course project is available on the course github repo [here](https://github.com/pointOfive/stat130chat130/tree/main/CP), including a draft [course project specfication](https://github.com/pointOfive/stat130chat130/blob/main/CP/STA130F23_course_project_specification.ipynb) (subject to change). \n",
    "- The Week 01 HW introduced [STA130F24_CourseProject.ipynb](https://github.com/pointOfive/stat130chat130/blob/main/CP/STA130F24_CourseProject.ipynb), and the [available variables](https://drive.google.com/file/d/1ISVymGn-WR1lcRs4psIym2N3or5onNBi/view). \n",
    "- Please do not download the [data](https://drive.google.com/file/d/1mbUQlMTrNYA7Ly5eImVRBn16Ehy9Lggo/view) accessible at the bottom of the [CSCS](https://casch.org/cscs) webpage (or the course github repo) multiple times.\n",
    "\n",
    "> At this point in the course you should be able to create a `for` loop to iterate through and provide **simple summaries** of some of the interesting columns in the course project data\n",
    ">\n",
    "> 1. Create two versions of the code, one for numeric and the other for categorical data,  which provide a printout format that displays relavent summaries and the missing data counts for a given set of (either numerical or categorical) columns being examined\n",
    ">\n",
    "> 2. Combine the two separate `for` loops into a single `for` loop using an `if`/`else` **conditional logic structure** that determines the correct printout format based on the data type of the column under consideration  \n",
    ">     1. *Being able to transform existing code so it's \"resuable\" for different purposes is one version of the programming design principle of \"polymorphism\" (which means \"many forms\" or \"many uses\") [as in the first task above]*\n",
    ">     2. *A better version of the programming design principle of \"polymorphism\" is when the same code can handle different use cases [as in the second tast above]*\n",
    ">     3. *Being able run your code with different subsets of columns as interest in different variables changes is a final form of the programming design principle of \"polymorphism\" that's demonstrated through this exercise*   \n",
    "    \n",
    "</details>        "
   ]
  }
 ],
 "metadata": {
  "kernelspec": {
   "display_name": "Python 3 (ipykernel)",
   "language": "python",
   "name": "python3"
  },
  "language_info": {
   "codemirror_mode": {
    "name": "ipython",
    "version": 3
   },
   "file_extension": ".py",
   "mimetype": "text/x-python",
   "name": "python",
   "nbconvert_exporter": "python",
   "pygments_lexer": "ipython3",
   "version": "3.11.6"
  }
 },
 "nbformat": 4,
 "nbformat_minor": 5
}
